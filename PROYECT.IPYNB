{
 "cells": [
  {
   "cell_type": "markdown",
   "metadata": {},
   "source": [
    "# NVIDIA Stock. VS TESLA STOCK."
   ]
  },
  {
   "cell_type": "code",
   "execution_count": 19,
   "metadata": {},
   "outputs": [],
   "source": [
    "import json\n",
    "import os\n",
    "import seaborn as sns\n",
    "import matplotlib.pyplot as plt\n",
    "import pandas as pd\n",
    "import numpy as np\n",
    "from datetime import datetime, timedelta"
   ]
  },
  {
   "cell_type": "markdown",
   "metadata": {},
   "source": [
    "# PREGUNTAS DE INTERES\n",
    " \n",
    "PREGUNTAS PRINCIPALES\n",
    "¿Qué tan fuertemente correlacionados están los precios de cierre de las acciones de NVIDIA y Tesla?\n",
    "\n",
    " ¿Cómo se compara la volatilidad de los precios de las acciones de NVIDIA con los de Tesla?\n",
    "\n",
    "¿Cómo han reaccionado los precios de cierre de NVIDIA y TESLA ante eventos económicos significativos?\n",
    "\n",
    "PREGUNTAS SECUNDARIAS\n",
    "\n",
    "¿Cuál ha sido la tendencia general del precio de cierre de las acciones INDIVIDUALES en los últimos cinco años?\n",
    "\n",
    "¿Cómo afecta el volumen de negociación diario a los precios de cierre de las acciones?"
   ]
  },
  {
   "cell_type": "code",
   "execution_count": 20,
   "metadata": {},
   "outputs": [],
   "source": [
    "#Lectura de datasets\n",
    "df_nvidia = pd.read_csv('nvidia.csv')\n",
    "df_tesla = pd.read_csv('tesla.csv')\n"
   ]
  },
  {
   "cell_type": "code",
   "execution_count": 21,
   "metadata": {},
   "outputs": [
    {
     "data": {
      "text/plain": [
       "Unnamed: 0                                              2804896\n",
       "date          2015-01-022015-01-052015-01-062015-01-072015-0...\n",
       "open                                               33612.501987\n",
       "high                                               34222.352034\n",
       "low                                                32975.368506\n",
       "close                                              33634.773737\n",
       "adjclose                                           33566.934425\n",
       "volume                                            1134165002000\n",
       "dtype: object"
      ]
     },
     "execution_count": 21,
     "metadata": {},
     "output_type": "execute_result"
    }
   ],
   "source": [
    "\n",
    "df_nvidia.sum()"
   ]
  },
  {
   "cell_type": "code",
   "execution_count": 22,
   "metadata": {},
   "outputs": [
    {
     "data": {
      "text/plain": [
       "478752639.08822286"
      ]
     },
     "execution_count": 22,
     "metadata": {},
     "output_type": "execute_result"
    }
   ],
   "source": [
    "df_nvidia['volume'].mean()"
   ]
  },
  {
   "cell_type": "code",
   "execution_count": null,
   "metadata": {},
   "outputs": [],
   "source": []
  },
  {
   "cell_type": "markdown",
   "metadata": {},
   "source": [
    "# ANALISIS EXPLORATORIO "
   ]
  },
  {
   "cell_type": "markdown",
   "metadata": {},
   "source": [
    "ANALISIS METADATA \n",
    " * INTENTAMOS DAR A CONOCER INFORMACION BASICA DE LOS DATOS PROMEDIO DE VOLUMEN PRECIO MAXIMO , TIEMPO QUE RECUBRE EL DATASET Y CANTIDAD DE REGISTROS \n"
   ]
  },
  {
   "cell_type": "code",
   "execution_count": 24,
   "metadata": {},
   "outputs": [
    {
     "data": {
      "text/html": [
       "<div>\n",
       "<style scoped>\n",
       "    .dataframe tbody tr th:only-of-type {\n",
       "        vertical-align: middle;\n",
       "    }\n",
       "\n",
       "    .dataframe tbody tr th {\n",
       "        vertical-align: top;\n",
       "    }\n",
       "\n",
       "    .dataframe thead th {\n",
       "        text-align: right;\n",
       "    }\n",
       "</style>\n",
       "<table border=\"1\" class=\"dataframe\">\n",
       "  <thead>\n",
       "    <tr style=\"text-align: right;\">\n",
       "      <th></th>\n",
       "      <th>Unnamed: 0</th>\n",
       "      <th>date</th>\n",
       "      <th>open</th>\n",
       "      <th>high</th>\n",
       "      <th>low</th>\n",
       "      <th>close</th>\n",
       "      <th>adjclose</th>\n",
       "      <th>volume</th>\n",
       "    </tr>\n",
       "  </thead>\n",
       "  <tbody>\n",
       "    <tr>\n",
       "      <th>2364</th>\n",
       "      <td>2364</td>\n",
       "      <td>2024-05-24</td>\n",
       "      <td>104.448997</td>\n",
       "      <td>106.474998</td>\n",
       "      <td>103.000000</td>\n",
       "      <td>106.469002</td>\n",
       "      <td>106.460258</td>\n",
       "      <td>429494000</td>\n",
       "    </tr>\n",
       "    <tr>\n",
       "      <th>2365</th>\n",
       "      <td>2365</td>\n",
       "      <td>2024-05-28</td>\n",
       "      <td>110.244003</td>\n",
       "      <td>114.939003</td>\n",
       "      <td>109.883003</td>\n",
       "      <td>113.901001</td>\n",
       "      <td>113.891647</td>\n",
       "      <td>652728000</td>\n",
       "    </tr>\n",
       "    <tr>\n",
       "      <th>2366</th>\n",
       "      <td>2366</td>\n",
       "      <td>2024-05-29</td>\n",
       "      <td>113.050003</td>\n",
       "      <td>115.491997</td>\n",
       "      <td>110.901001</td>\n",
       "      <td>114.824997</td>\n",
       "      <td>114.815567</td>\n",
       "      <td>557442000</td>\n",
       "    </tr>\n",
       "    <tr>\n",
       "      <th>2367</th>\n",
       "      <td>2367</td>\n",
       "      <td>2024-05-30</td>\n",
       "      <td>114.650002</td>\n",
       "      <td>115.819000</td>\n",
       "      <td>109.663002</td>\n",
       "      <td>110.500000</td>\n",
       "      <td>110.490921</td>\n",
       "      <td>487350000</td>\n",
       "    </tr>\n",
       "    <tr>\n",
       "      <th>2368</th>\n",
       "      <td>2368</td>\n",
       "      <td>2024-05-31</td>\n",
       "      <td>112.519997</td>\n",
       "      <td>112.717003</td>\n",
       "      <td>106.940002</td>\n",
       "      <td>109.633003</td>\n",
       "      <td>109.624001</td>\n",
       "      <td>613263000</td>\n",
       "    </tr>\n",
       "  </tbody>\n",
       "</table>\n",
       "</div>"
      ],
      "text/plain": [
       "      Unnamed: 0        date        open        high         low       close   \n",
       "2364        2364  2024-05-24  104.448997  106.474998  103.000000  106.469002  \\\n",
       "2365        2365  2024-05-28  110.244003  114.939003  109.883003  113.901001   \n",
       "2366        2366  2024-05-29  113.050003  115.491997  110.901001  114.824997   \n",
       "2367        2367  2024-05-30  114.650002  115.819000  109.663002  110.500000   \n",
       "2368        2368  2024-05-31  112.519997  112.717003  106.940002  109.633003   \n",
       "\n",
       "        adjclose     volume  \n",
       "2364  106.460258  429494000  \n",
       "2365  113.891647  652728000  \n",
       "2366  114.815567  557442000  \n",
       "2367  110.490921  487350000  \n",
       "2368  109.624001  613263000  "
      ]
     },
     "execution_count": 24,
     "metadata": {},
     "output_type": "execute_result"
    }
   ],
   "source": [
    "# VOLUMEN PROMEDIO DE ACCIONES CON SU TOTAL DE VALOR NEGOCIADO A LO LARGO DE LOS ULTIMOS 5 AÑOS \n",
    "\n",
    "\n",
    "# NVIDIA\n",
    "\n",
    "df_nvidia"
   ]
  }
 ],
 "metadata": {
  "kernelspec": {
   "display_name": "Python 3",
   "language": "python",
   "name": "python3"
  },
  "language_info": {
   "codemirror_mode": {
    "name": "ipython",
    "version": 3
   },
   "file_extension": ".py",
   "mimetype": "text/x-python",
   "name": "python",
   "nbconvert_exporter": "python",
   "pygments_lexer": "ipython3",
   "version": "3.10.11"
  }
 },
 "nbformat": 4,
 "nbformat_minor": 2
}
